{
 "cells": [
  {
   "cell_type": "code",
   "execution_count": 1,
   "id": "b94bcf6e-dc83-4474-9102-bdd5cc0aa9b3",
   "metadata": {},
   "outputs": [],
   "source": [
    "import numpy as np\n",
    "import pandas as pd\n",
    "import math"
   ]
  },
  {
   "cell_type": "code",
   "execution_count": 2,
   "id": "5884b746-eed3-47dc-a265-2215706f037d",
   "metadata": {},
   "outputs": [
    {
     "name": "stdout",
     "output_type": "stream",
     "text": [
      "(40, 2)\n",
      "(40, 24003)\n"
     ]
    }
   ],
   "source": [
    "d1 = pd.read_csv('monomer_CA.dat', header = None, delim_whitespace = True)\n",
    "d2 = pd.read_csv('Monomer_CA_last2000ns_ChemShift_concat_datas.csv', header = None, delim_whitespace = True)\n",
    "\n",
    "df1 = pd.DataFrame(d1)\n",
    "df2 = pd.DataFrame(d2)\n",
    "\n",
    "print(df1.shape)\n",
    "print(df2.shape)"
   ]
  },
  {
   "cell_type": "code",
   "execution_count": 3,
   "id": "278e2c44-e8bd-4ae1-9b20-a51597a76549",
   "metadata": {},
   "outputs": [],
   "source": [
    "data = []\n",
    "\n",
    "for n in range(0, len(df2.iloc[0, :])):\n",
    "    add = 0\n",
    "    for i in range(0, len(df1.iloc[:, 0])):\n",
    "        sub = (df2.iloc[i, n] - df1.iloc[i, 0])\n",
    "        square = sub ** 2\n",
    "        add = add + square\n",
    "    div = add / len(df1.iloc[:, 0])\n",
    "    rmsd = math.sqrt(div)\n",
    "    data.append(rmsd)"
   ]
  },
  {
   "cell_type": "code",
   "execution_count": 4,
   "id": "63f60375-f2e9-405d-83a4-580dbca793ff",
   "metadata": {},
   "outputs": [
    {
     "name": "stdout",
     "output_type": "stream",
     "text": [
      "24003\n"
     ]
    }
   ],
   "source": [
    "print(len(data))"
   ]
  },
  {
   "cell_type": "code",
   "execution_count": 5,
   "id": "c0f0f816-4330-4fda-813c-626f9a4a4c77",
   "metadata": {},
   "outputs": [],
   "source": [
    "with open('rmsd_per_frame.dat', 'w') as file:\n",
    "  for item in data:\n",
    "    file.write(\"%s\\n\" % item)"
   ]
  },
  {
   "cell_type": "code",
   "execution_count": null,
   "id": "28eeeee4-0c03-4d32-930e-c9cfe3ceaed7",
   "metadata": {},
   "outputs": [],
   "source": []
  }
 ],
 "metadata": {
  "kernelspec": {
   "display_name": "Python 3 (ipykernel)",
   "language": "python",
   "name": "python3"
  },
  "language_info": {
   "codemirror_mode": {
    "name": "ipython",
    "version": 3
   },
   "file_extension": ".py",
   "mimetype": "text/x-python",
   "name": "python",
   "nbconvert_exporter": "python",
   "pygments_lexer": "ipython3",
   "version": "3.11.5"
  }
 },
 "nbformat": 4,
 "nbformat_minor": 5
}
